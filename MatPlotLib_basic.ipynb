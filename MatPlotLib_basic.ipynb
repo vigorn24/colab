{
  "nbformat": 4,
  "nbformat_minor": 0,
  "metadata": {
    "colab": {
      "provenance": []
    },
    "kernelspec": {
      "name": "python3",
      "display_name": "Python 3"
    },
    "language_info": {
      "name": "python"
    }
  },
  "cells": [
    {
      "cell_type": "markdown",
      "source": [
        "# Создание холста (figure) и области для графиков (axis). Функция subplots()"
      ],
      "metadata": {
        "id": "FHAnj8-U_dYs"
      }
    },
    {
      "cell_type": "code",
      "source": [
        "import matplotlib.pyplot as plt\n",
        "\n",
        "fig, axes = plt.subplots(1, 2, figsize=(8, 4))"
      ],
      "metadata": {
        "id": "worRyMb0_f0M"
      },
      "execution_count": null,
      "outputs": []
    },
    {
      "cell_type": "markdown",
      "source": [
        "# Основной вариант. Поместить данные на график. Функция plot()"
      ],
      "metadata": {
        "id": "RgAnbz7fHfeo"
      }
    },
    {
      "cell_type": "code",
      "source": [
        "import matplotlib.pyplot as plt\n",
        "\n",
        "months = ['Янв', 'Фев', 'Мар', 'Апр', 'Май', 'Июн']\n",
        "sales = [120, 145, 160, 185, 210, 195]\n",
        "\n",
        "fig, axes = plt.subplots(2, 4)\n",
        "axes[1,2].plot(months, sales) # второй ряд, третий стоблец\n",
        "plt.show()"
      ],
      "metadata": {
        "id": "BVxDk5IcHiL_"
      },
      "execution_count": null,
      "outputs": []
    },
    {
      "cell_type": "markdown",
      "source": [
        "# Указание атрибутов графика"
      ],
      "metadata": {
        "id": "7U45abPEHrjH"
      }
    },
    {
      "cell_type": "code",
      "source": [
        "import matplotlib.pyplot as plt\n",
        "import numpy as np\n",
        "x = np.linspace(0, 10, 10)\n",
        "y = x**2\n",
        "\n",
        "fig, ax = plt.subplots(2,2, figsize=(10, 10))\n",
        "ax[0,0].set_xlabel(\"x\")\n",
        "ax[0,0].set_ylabel(\"y\")\n",
        "\n",
        "## указание маркеров и типа линии\n",
        "ax[0,0].plot(x, y, marker='o', linestyle='-', color='blue', label='Круги + сплошная') # Круги и сплошная линия\n",
        "\n",
        "ax[0,0].plot(x, y + 10, marker='x', linestyle='--', color='red', label='Крестики + пунктир') # Крестики и пунктир\n",
        "\n",
        "ax[0,0].plot(x, y + 20, marker='^', linestyle='-.', color='green', label='Треугольники + штрихпунктир') # Треугольники и штрихпунктир\n",
        "\n",
        "ax[0,0].legend()\n",
        "ax[0,0].set_title(\"Примеры маркеров и типов линий\")\n",
        "ax[0,0].grid(True)\n",
        "plt.show()"
      ],
      "metadata": {
        "id": "J9j7ufg0HuFX",
        "collapsed": true
      },
      "execution_count": null,
      "outputs": []
    },
    {
      "cell_type": "markdown",
      "source": [
        "# Вариант 1.  Упрощенный интерфейс создания графиков"
      ],
      "metadata": {
        "id": "q0ulH5nGIhlu"
      }
    },
    {
      "cell_type": "code",
      "source": [
        "import matplotlib.pyplot as plt\n",
        "\n",
        "months = ['Янв', 'Фев', 'Мар', 'Апр', 'Май', 'Июн']\n",
        "sales = [120, 145, 160, 185, 210, 195]\n",
        "\n",
        "plt.plot(months, sales)\n",
        "\n",
        "plt.show()"
      ],
      "metadata": {
        "id": "JuuDJ9rMIjSd"
      },
      "execution_count": null,
      "outputs": []
    },
    {
      "cell_type": "markdown",
      "source": [
        "# Вариант 2.  Один объект axis (не массив)"
      ],
      "metadata": {
        "id": "SKtfssj7IsM9"
      }
    },
    {
      "cell_type": "code",
      "source": [
        "import matplotlib.pyplot as plt\n",
        "\n",
        "\n",
        "months = ['Янв', 'Фев', 'Мар', 'Апр', 'Май', 'Июн']\n",
        "sales = [120, 145, 160, 185, 210, 195]\n",
        "\n",
        "fig, ax = plt.subplots() # не указали число строк и столбцов, значит по умолчанию будет один график и один объект ax (не массив). Соответственно не требуется индекс для обращения.\n",
        "\n",
        "# строим две линии с подписями\n",
        "ax.plot(months, sales)\n",
        "\n",
        "plt.show()"
      ],
      "metadata": {
        "id": "jq3FOmPXIuGl"
      },
      "execution_count": null,
      "outputs": []
    },
    {
      "cell_type": "markdown",
      "source": [
        "# Вариант 3.  Функция add_subplot()"
      ],
      "metadata": {
        "id": "ajgP3t-MI1yU"
      }
    },
    {
      "cell_type": "code",
      "source": [
        "import matplotlib.pyplot as plt\n",
        "import numpy as np\n",
        "\n",
        "x = np.linspace(0, 10, 100)\n",
        "y1 = x\n",
        "y2 = x**2\n",
        "\n",
        "fig = plt.figure()\n",
        "ax1 = fig.add_subplot(2, 3, 1)  # 1 ячейка\n",
        "ax2 = fig.add_subplot(3, 3, 5)  # 5 ячейка, всего 9 ячек (3 строки и 3 столбца)\n",
        "\n",
        "\n",
        "# строим две линии с подписями\n",
        "ax1.plot(x, y1, label='y = x', color='blue')\n",
        "ax2.plot(x, y2, label='y = x²', color='green')\n",
        "\n",
        "plt.show()"
      ],
      "metadata": {
        "id": "4Q2N7fhgI4Ts"
      },
      "execution_count": null,
      "outputs": []
    },
    {
      "cell_type": "markdown",
      "source": [
        "# Типы графиков"
      ],
      "metadata": {
        "id": "Ke7Iz7THI_xt"
      }
    },
    {
      "cell_type": "markdown",
      "source": [
        "## Типы графиков.  Линейный график (plt.plot())"
      ],
      "metadata": {
        "id": "A47-8tHiI-M9"
      }
    },
    {
      "cell_type": "code",
      "source": [
        "import matplotlib.pyplot as plt\n",
        "plt.plot([1, 2, 3, 4], [10, 15, 13, 18], marker='o')\n",
        "plt.title(\"Рост продаж\")\n",
        "plt.xlabel(\"Месяц\")\n",
        "plt.ylabel(\"Продажи (тыс. руб.)\")\n",
        "plt.grid(True)\n",
        "plt.show()"
      ],
      "metadata": {
        "id": "vM9W591uJFws"
      },
      "execution_count": null,
      "outputs": []
    },
    {
      "cell_type": "markdown",
      "source": [
        "## Столбчатая диаграмма (plt.bar())"
      ],
      "metadata": {
        "id": "u9ZpbH_OJJ1R"
      }
    },
    {
      "cell_type": "code",
      "source": [
        "import matplotlib.pyplot as plt\n",
        "categories = ['Яблоки', 'Бананы', 'Апельсины']\n",
        "values = [50, 30, 40]\n",
        "plt.bar(categories, values, color=['red', 'yellow', 'orange'])\n",
        "plt.title(\"Продажи фруктов\")\n",
        "plt.ylabel(\"Количество (кг)\")\n",
        "plt.show()"
      ],
      "metadata": {
        "id": "OLuG9QoKJQAg"
      },
      "execution_count": null,
      "outputs": []
    },
    {
      "cell_type": "markdown",
      "source": [
        "## Круговая диаграмма (plt.pie())"
      ],
      "metadata": {
        "id": "3WL5cEeQJYTc"
      }
    },
    {
      "cell_type": "code",
      "source": [
        "import matplotlib.pyplot as plt\n",
        "labels = ['А', 'Б', 'В', 'Г']\n",
        "sizes = [25, 35, 20, 20]\n",
        "plt.pie(sizes, labels=labels, autopct='%1.1f%%')\n",
        "plt.title(\"Распределение долей\")\n",
        "plt.show()"
      ],
      "metadata": {
        "id": "uD-8hhMTJZlz"
      },
      "execution_count": null,
      "outputs": []
    },
    {
      "cell_type": "markdown",
      "source": [
        "## Гистограмма (plt.hist())"
      ],
      "metadata": {
        "id": "GRJiZ2lqJcJq"
      }
    },
    {
      "cell_type": "code",
      "source": [
        "import matplotlib.pyplot as plt\n",
        "data = [1, 1, 2, 3, 3, 3, 4, 5, 6]\n",
        "plt.hist(data, bins=5, edgecolor='black')\n",
        "plt.title(\"Гистограмма распределения\")\n",
        "plt.xlabel(\"Значения\")\n",
        "plt.ylabel(\"Частота\")\n",
        "plt.show()"
      ],
      "metadata": {
        "id": "cD9TclujKUdx"
      },
      "execution_count": null,
      "outputs": []
    },
    {
      "cell_type": "markdown",
      "source": [
        "## Точечный график (plt.scatter())"
      ],
      "metadata": {
        "id": "1NX-RPduKa2H"
      }
    },
    {
      "cell_type": "code",
      "source": [
        "import matplotlib.pyplot as plt\n",
        "\n",
        "x = [1, 2, 3, 4, 5]\n",
        "y = [2, 3, 2, 4, 5]\n",
        "plt.scatter(x, y, s=100, c=['red', 'green', 'blue', 'yellow', 'black'])\n",
        "plt.title(\"Точечный график\")\n",
        "plt.xlabel(\"X\")\n",
        "plt.ylabel(\"Y\")\n",
        "plt.show()"
      ],
      "metadata": {
        "id": "3UjGbrb3KcMo"
      },
      "execution_count": null,
      "outputs": []
    },
    {
      "cell_type": "markdown",
      "source": [
        "## Ящик с усами (plt.boxplot())"
      ],
      "metadata": {
        "id": "X8qUCpuLKe_Z"
      }
    },
    {
      "cell_type": "code",
      "source": [
        "import matplotlib.pyplot as plt\n",
        "data = [[10, 20, 30, 40, 50], [15, 25, 35, 45, 55]]\n",
        "plt.boxplot(data, labels=['Группа A', 'Группа B'])\n",
        "plt.title(\"Boxplot\")\n",
        "plt.ylabel(\"Значения\")\n",
        "plt.show()"
      ],
      "metadata": {
        "id": "4JjhgZx6Klso"
      },
      "execution_count": null,
      "outputs": []
    },
    {
      "cell_type": "markdown",
      "source": [
        "## Тепловая карта (plt.imshow()"
      ],
      "metadata": {
        "id": "eoS6lOlRKrgg"
      }
    },
    {
      "cell_type": "code",
      "source": [
        "import matplotlib.pyplot as plt\n",
        "import numpy as np\n",
        "matrix = np.random.rand(5, 5)\n",
        "plt.imshow(matrix, cmap='hot')\n",
        "plt.colorbar()\n",
        "plt.title(\"Тепловая карта\")\n",
        "plt.show()"
      ],
      "metadata": {
        "id": "Sfb6lkjBKvH3"
      },
      "execution_count": null,
      "outputs": []
    },
    {
      "cell_type": "markdown",
      "source": [
        "## График с областями (plt.stackplot())"
      ],
      "metadata": {
        "id": "EJiBK1YsKzM4"
      }
    },
    {
      "cell_type": "code",
      "source": [
        "import matplotlib.pyplot as plt\n",
        "months = ['Янв', 'Фев', 'Мар']\n",
        "product_a = [10, 15, 20]\n",
        "product_b = [5, 10, 15]\n",
        "plt.stackplot(months, product_a, product_b, labels=['A', 'B'])\n",
        "plt.legend()\n",
        "plt.title(\"Суммарные продажи\")\n",
        "plt.show()"
      ],
      "metadata": {
        "id": "urb8CUraK2Ew"
      },
      "execution_count": null,
      "outputs": []
    }
  ]
}